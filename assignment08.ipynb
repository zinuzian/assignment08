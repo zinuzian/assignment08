{
 "cells": [
  {
   "cell_type": "markdown",
   "metadata": {},
   "source": [
    "**Mathematical Foundations for Computer Vision and Machine Learning**\n",
    "\n",
    "***Assignment08 - Binary Classifier(Zero Classifier)***\n",
    "\n",
    "Name: Jinwoo Jeon\n",
    "\n",
    "Student ID: 20143954\n",
    "\n",
    "\n",
    "[Link to Github](https://github.com/zinuzian/assignment08)"
   ]
  },
  {
   "cell_type": "markdown",
   "metadata": {},
   "source": [
    "# Setting Up\n",
    "\n",
    "We should get ready to read mnist files. \n",
    "\n",
    "**Careful! It's really huge!** You should have enough free memory."
   ]
  },
  {
   "cell_type": "code",
   "execution_count": 1,
   "metadata": {},
   "outputs": [],
   "source": [
    "import matplotlib.pyplot as plt\n",
    "import numpy as np\n",
    "\n",
    "file_data_train = \"mnist_train.csv\"\n",
    "file_data_test  = \"mnist_test.csv\"\n",
    "\n",
    "h_data_train    = open(file_data_train, \"r\")\n",
    "h_data_test     = open(file_data_test, \"r\")\n",
    "\n",
    "data_train      = h_data_train.readlines()\n",
    "data_test       = h_data_test.readlines()\n",
    "\n",
    "h_data_train.close()\n",
    "h_data_test.close()\n",
    "\n",
    "size_row    = 28    # height of the image\n",
    "size_col    = 28    # width of the image\n",
    "\n",
    "num_train   = len(data_train)   # number of training images\n",
    "num_test    = len(data_test)    # number of testing images"
   ]
  },
  {
   "cell_type": "markdown",
   "metadata": {},
   "source": [
    "# Functions\n",
    "\n",
    "Theres some funtions implemented below.\n",
    "\n",
    "We should normalize the input data to get rid of bias.\n",
    "\n",
    "We are implementing binary classifier, so if label is 0, it is the answer. Otherwise, it isn't."
   ]
  },
  {
   "cell_type": "code",
   "execution_count": 2,
   "metadata": {},
   "outputs": [],
   "source": [
    "#\n",
    "# normalize the values of the input data to be [0, 1]\n",
    "#\n",
    "def normalize(data):\n",
    "\n",
    "    data_normalized = (data - min(data)) / (max(data) - min(data))\n",
    "\n",
    "    return(data_normalized)\n",
    "\n",
    "#\n",
    "# return 1 only if the value is what we are looking for. Otherwise -1.\n",
    "#\n",
    "def bi_partitioning(M,val):\n",
    "    length = len(M)\n",
    "    res = np.zeros((length))\n",
    "    for i in range(length):\n",
    "        if(M[i] == val):\n",
    "            res[i] = 1\n",
    "        else:\n",
    "            res[i] = -1\n",
    "    return res\n",
    "\n",
    "#\n",
    "# sign funtion\n",
    "#\n",
    "def sign(x):\n",
    "    if(x>=0):\n",
    "        return 1\n",
    "    else:\n",
    "        return -1\n",
    "    "
   ]
  },
  {
   "cell_type": "markdown",
   "metadata": {},
   "source": [
    "# Vectorize the Input Data\n",
    "\n",
    "We should get first element of MNIST data to get label.\n",
    "\n",
    "The real image data starts from second element."
   ]
  },
  {
   "cell_type": "code",
   "execution_count": 3,
   "metadata": {},
   "outputs": [],
   "source": [
    "#\n",
    "# make a matrix each column of which represents an images in a vector form \n",
    "#\n",
    "list_image_train    = np.empty((size_row * size_col, num_train), dtype=float)\n",
    "list_label_train    = np.empty(num_train, dtype=int)\n",
    "list_image_test     = np.empty((size_row * size_col, num_test), dtype=float)\n",
    "list_label_test     = np.empty(num_test, dtype=int)\n",
    "\n",
    "count = 0\n",
    "\n",
    "for line in data_train:\n",
    "\n",
    "    line_data   = line.split(',')\n",
    "    label       = line_data[0]\n",
    "    im_vector   = np.asfarray(line_data[1:])\n",
    "    im_vector   = normalize(im_vector)\n",
    "\n",
    "    list_label_train[count]     = label\n",
    "    list_image_train[:, count]  = im_vector    \n",
    "\n",
    "    count += 1\n",
    "\n",
    "count = 0\n",
    "\n",
    "for line in data_test:\n",
    "\n",
    "    line_data   = line.split(',')\n",
    "    label       = line_data[0]\n",
    "    im_vector   = np.asfarray(line_data[1:])\n",
    "    im_vector   = normalize(im_vector)\n",
    "\n",
    "    list_label_test[count]      = label\n",
    "    list_image_test[:, count]   = im_vector    \n",
    "\n",
    "    count += 1"
   ]
  },
  {
   "cell_type": "markdown",
   "metadata": {},
   "source": [
    "# To make it Linearly Indepent\n",
    "\n",
    "We should erase **zero column** from the input data. This makes Matrix A as **dependent**, which makes impossible to get **pseudo inverse**.\n",
    "\n",
    "This means that in theta, the **ith value** is **0**. \n",
    "\n",
    "$$\\theta = [\\theta_{1} \\theta_{2} \\cdots \\theta_{784}]$$\n",
    "\n",
    "$$\\theta_{i} = 0$$"
   ]
  },
  {
   "cell_type": "code",
   "execution_count": 4,
   "metadata": {},
   "outputs": [],
   "source": [
    "index = np.where(~list_image_train.any(axis=1))[0]\n",
    "A = list_image_train[~np.all(list_image_train == 0, axis=1)]\n",
    "A = np.matrix(np.transpose(A))\n",
    "B = np.matrix(np.transpose(bi_partitioning(list_label_train,0)))   # (60000, 1)"
   ]
  },
  {
   "cell_type": "markdown",
   "metadata": {},
   "source": [
    "# Pseudo Inverse and Model Parameter\n",
    "\n",
    "We get temporary theta by pseudo inverse. This is not real theta since we erased zero column.\n",
    "\n",
    "Function ```reshape``` make (1,784) to (28, 28)."
   ]
  },
  {
   "cell_type": "code",
   "execution_count": 5,
   "metadata": {},
   "outputs": [
    {
     "data": {
      "image/png": "[encoded data removed]",
      "text/plain": [
       "<Figure size 432x288 with 2 Axes>"
      ]
     },
     "metadata": {
      "needs_background": "light"
     },
     "output_type": "display_data"
    }
   ],
   "source": [
    "temp_theta = (A.T * A).I*A.T*B.T\n",
    "theta = np.zeros((size_col*size_row))\n",
    "count = 0\n",
    "for i in range(size_col*size_row):\n",
    "    if i not in index:\n",
    "        theta[i]=temp_theta[count]\n",
    "        count+=1\n",
    "\n",
    "plt.imshow(theta.reshape((size_row, size_col)), cmap='RdYlBu')\n",
    "plt.clim(-1,1)\n",
    "plt.colorbar()\n",
    "plt.show()"
   ]
  },
  {
   "cell_type": "markdown",
   "metadata": {},
   "source": [
    "# Evaluation Value Table\n",
    "\n",
    "To show as table form, I imported ```pandas```. This module make it easy to plot dataframe.\n",
    "\n",
    "```B_hat``` means the **answer(y)**, while ```theta.dot(list_image_test[:,i])``` means the **y_hat**."
   ]
  },
  {
   "cell_type": "code",
   "execution_count": 7,
   "metadata": {},
   "outputs": [
    {
     "data": {
      "text/html": [
       "<div>\n",
       "<style scoped>\n",
       "    .dataframe tbody tr th:only-of-type {\n",
       "        vertical-align: middle;\n",
       "    }\n",
       "\n",
       "    .dataframe tbody tr th {\n",
       "        vertical-align: top;\n",
       "    }\n",
       "\n",
       "    .dataframe thead th {\n",
       "        text-align: right;\n",
       "    }\n",
       "</style>\n",
       "<table border=\"1\" class=\"dataframe\">\n",
       "  <thead>\n",
       "    <tr style=\"text-align: right;\">\n",
       "      <th></th>\n",
       "      <th>y_hat = +1</th>\n",
       "      <th>y_hat = -1</th>\n",
       "      <th>Total</th>\n",
       "    </tr>\n",
       "  </thead>\n",
       "  <tbody>\n",
       "    <tr>\n",
       "      <th>y = +1</th>\n",
       "      <td>896.0</td>\n",
       "      <td>84.0</td>\n",
       "      <td>980.0</td>\n",
       "    </tr>\n",
       "    <tr>\n",
       "      <th>y = -1</th>\n",
       "      <td>204.0</td>\n",
       "      <td>8816.0</td>\n",
       "      <td>9020.0</td>\n",
       "    </tr>\n",
       "    <tr>\n",
       "      <th>All</th>\n",
       "      <td>1100.0</td>\n",
       "      <td>8900.0</td>\n",
       "      <td>10000.0</td>\n",
       "    </tr>\n",
       "  </tbody>\n",
       "</table>\n",
       "</div>"
      ],
      "text/plain": [
       "        y_hat = +1  y_hat = -1    Total\n",
       "y = +1       896.0        84.0    980.0\n",
       "y = -1       204.0      8816.0   9020.0\n",
       "All         1100.0      8900.0  10000.0"
      ]
     },
     "metadata": {},
     "output_type": "display_data"
    },
    {
     "name": "stdout",
     "output_type": "stream",
     "text": [
      "error rate : 2.88%\n",
      "recall rate : 91.42857142857143%\n",
      "false alarm rate : 2.261640798226164%\n"
     ]
    }
   ],
   "source": [
    "import pandas as pd\n",
    "from pandas import Series, DataFrame\n",
    "\n",
    "table = np.zeros((2,2))\n",
    "B_hat = bi_partitioning(list_label_test,0)\n",
    "im_avg = np.zeros((size_row*size_col,4))\n",
    "\n",
    "for i in range(num_test):\n",
    "    if sign(theta.dot(list_image_test[:,i])) == 1:\n",
    "        if(B_hat[i] == 1):\n",
    "            # True Positive\n",
    "            table[0][0] += 1\n",
    "            im_avg[:,0] += list_image_test[:,i]\n",
    "        else:\n",
    "            # False Positive\n",
    "            table[1][0] += 1\n",
    "            im_avg[:,1] += list_image_test[:,i]\n",
    "    else:\n",
    "        if(B_hat[i] == 1):\n",
    "            # False Negative\n",
    "            table[0][1] += 1\n",
    "            im_avg[:,3] += list_image_test[:,i]\n",
    "        else:\n",
    "            # True Negative\n",
    "            table[1][1] += 1\n",
    "            im_avg[:,2] += list_image_test[:,i]\n",
    "im_avg[:,0] /= table[0][0]\n",
    "im_avg[:,1] /= table[1][0]\n",
    "im_avg[:,2] /= table[1][1]\n",
    "im_avg[:,3] /= table[0][1]\n",
    "\n",
    "            \n",
    "# make result as dataframe        \n",
    "data = {\n",
    "    'y_hat = +1' : [table[0][0],table[1][0],sum(table[:,0])],\n",
    "    'y_hat = -1' : [table[0][1],table[1][1],sum(table[:,1])],\n",
    "    'Total' : [sum(table[0]),sum(table[1]), sum(sum(table))] \n",
    "}\n",
    "frame = DataFrame(data,columns = ['y_hat = +1','y_hat = -1','Total'], index = ['y = +1','y = -1','All'])\n",
    "display(frame)\n",
    "\n",
    "print(\"error rate : \" + str((table[0][1]+table[1][0])/num_test*100) + \"%\")\n",
    "print(\"recall rate : \" + str(table[0][0]/sum(table[0])*100) + \"%\")\n",
    "print(\"false alarm rate : \" + str(table[1][0]/sum(table[1])*100) + \"%\")"
   ]
  },
  {
   "cell_type": "markdown",
   "metadata": {},
   "source": [
    "# Average Image of Each Table Value\n",
    "\n",
    "While classifing data, I also calculated average image of each TP,FP, TN, and FN.\n",
    "\n",
    "Average image of each one is plotted."
   ]
  },
  {
   "cell_type": "code",
   "execution_count": 8,
   "metadata": {},
   "outputs": [
    {
     "data": {
      "image/png": "[encoded data removed]",
      "text/plain": [
       "<Figure size 432x288 with 4 Axes>"
      ]
     },
     "metadata": {
      "needs_background": "light"
     },
     "output_type": "display_data"
    }
   ],
   "source": [
    "p1 = plt.subplot(2,2,1)\n",
    "p1.imshow(im_avg[:,0].reshape((size_row, size_col)),cmap='gray')\n",
    "p1.set_title(\"True Positive\")\n",
    "p2 = plt.subplot(2,2,2)\n",
    "p2.imshow(im_avg[:,1].reshape((size_row, size_col)),cmap='gray')\n",
    "p2.set_title(\"False Positive\")\n",
    "p3 = plt.subplot(2,2,3)\n",
    "p3.imshow(im_avg[:,2].reshape((size_row, size_col)),cmap='gray')\n",
    "p3.set_title(\"True Negative\")\n",
    "p4 = plt.subplot(2,2,4)\n",
    "p4.imshow(im_avg[:,3].reshape((size_row, size_col)),cmap='gray')\n",
    "p4.set_title(\"False Negative\")\n",
    "plt.subplots_adjust(hspace=1)"
   ]
  }
 ],
 "metadata": {
  "kernelspec": {
   "display_name": "Python 3",
   "language": "python",
   "name": "python3"
  },
  "language_info": {
   "codemirror_mode": {
    "name": "ipython",
    "version": 3
   },
   "file_extension": ".py",
   "mimetype": "text/x-python",
   "name": "python",
   "nbconvert_exporter": "python",
   "pygments_lexer": "ipython3",
   "version": "3.6.4"
  }
 },
 "nbformat": 4,
 "nbformat_minor": 2
}
